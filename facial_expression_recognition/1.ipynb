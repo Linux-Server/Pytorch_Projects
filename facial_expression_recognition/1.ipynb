{
 "cells": [
  {
   "cell_type": "code",
   "execution_count": 46,
   "metadata": {},
   "outputs": [
    {
     "data": {
      "text/plain": [
       "'2.5.1'"
      ]
     },
     "execution_count": 46,
     "metadata": {},
     "output_type": "execute_result"
    }
   ],
   "source": [
    "import torch\n",
    "import kagglehub\n",
    "from pathlib import Path\n",
    "\n",
    "\n",
    "\n",
    "torch.__version__"
   ]
  },
  {
   "cell_type": "code",
   "execution_count": 164,
   "metadata": {},
   "outputs": [
    {
     "name": "stdout",
     "output_type": "stream",
     "text": [
      "Downloading dataset...\n",
      "Warning: Looks like you're using an outdated `kagglehub` version (installed: 0.3.8), please consider upgrading to the latest version (0.3.10).\n",
      "Path to dataset files: /Users/sachinmurali/.cache/kagglehub/datasets/jonathanoheix/face-expression-recognition-dataset/versions/1\n"
     ]
    }
   ],
   "source": [
    "# downlaod the dataset\n",
    "data_path  = Path(\"data\")\n",
    "\n",
    "if data_path.is_dir():\n",
    "   print(\"Datatset already exists...skipping download\")\n",
    "else:\n",
    "   print(\"Downloading dataset...\")\n",
    "   path = kagglehub.dataset_download(\"jonathanoheix/face-expression-recognition-dataset\")\n",
    "   print(\"Path to dataset files:\", path)\n",
    "   data_path.mkdir(parents=True, exist_ok=True)\n",
    "   !mv {path}  {data_path}\n",
    "   \n",
    "\n",
    "\n",
    "\n"
   ]
  },
  {
   "cell_type": "code",
   "execution_count": null,
   "metadata": {},
   "outputs": [],
   "source": []
  }
 ],
 "metadata": {
  "kernelspec": {
   "display_name": "pytorch",
   "language": "python",
   "name": "python3"
  },
  "language_info": {
   "codemirror_mode": {
    "name": "ipython",
    "version": 3
   },
   "file_extension": ".py",
   "mimetype": "text/x-python",
   "name": "python",
   "nbconvert_exporter": "python",
   "pygments_lexer": "ipython3",
   "version": "3.11.11"
  }
 },
 "nbformat": 4,
 "nbformat_minor": 2
}
